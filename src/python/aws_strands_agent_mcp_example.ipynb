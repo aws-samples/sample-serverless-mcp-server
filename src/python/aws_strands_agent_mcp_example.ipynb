{
 "cells": [
  {
   "cell_type": "markdown",
   "metadata": {},
   "source": [
    "# AWS Strands Agent with ComfyUI MCP Server Example\n",
    "\n",
    "This notebook demonstrates how to use AWS Strands Agent to call the ComfyUI MCP Server for image and video generation.\n",
    "\n",
    "## Prerequisites\n",
    "\n",
    "1. ComfyUI server running on localhost:8188\n",
    "2. Required Python packages installed\n",
    "3. MCP server script available\n",
    "\n",
    "## Setup"
   ]
  },
  {
   "cell_type": "code",
   "execution_count": null,
   "metadata": {},
   "outputs": [],
   "source": [
    "import os\n",
    "import json\n",
    "import asyncio\n",
    "import subprocess\n",
    "from pathlib import Path\n",
    "from strands import Agent\n",
    "from strands.tools.mcp import MCPTool\n",
    "import tempfile\n",
    "from IPython.display import Image, Video, display\n",
    "import base64"
   ]
  },
  {
   "cell_type": "markdown",
   "metadata": {},
   "source": [
    "## Configure Environment Variables"
   ]
  },
  {
   "cell_type": "code",
   "execution_count": null,
   "metadata": {},
   "outputs": [],
   "source": [
    "# Set ComfyUI server URL\n",
    "os.environ['COMFYUI_SERVER_URL'] = 'http://localhost:8188'\n",
    "os.environ['COMFYUI_ENABLE_FALLBACK'] = 'true'\n",
    "\n",
    "# Create output directory\n",
    "output_dir = Path('./generated_outputs')\n",
    "output_dir.mkdir(exist_ok=True)\n",
    "\n",
    "print(f\"Output directory: {output_dir.absolute()}\")"
   ]
  },
  {
   "cell_type": "markdown",
   "metadata": {},
   "source": [
    "## Initialize MCP Tool and Agent"
   ]
  },
  {
   "cell_type": "code",
   "execution_count": null,
   "metadata": {},
   "outputs": [],
   "source": [
    "# Path to the MCP server script\n",
    "mcp_server_path = Path('./mcp_server_stdio_sample.py').absolute()\n",
    "\n",
    "# Create MCP tool using FastMCP\n",
    "mcp_tool = MCPTool(\n",
    "    name=\"comfyui_generator\",\n",
    "    command=[\"python\", str(mcp_server_path)],\n",
    "    description=\"ComfyUI image and video generation tools built with FastMCP\"\n",
    ")\n",
    "\n",
    "# Initialize Strands Agent with MCP tool\n",
    "agent = Agent(\n",
    "    name=\"ComfyUI Generator Agent\",\n",
    "    instructions=\"You are an AI assistant that can generate images and videos using ComfyUI. You can create images from text descriptions, transform existing images, and generate videos from text or images.\",\n",
    "    tools=[mcp_tool]\n",
    ")\n",
    "\n",
    "print(\"Agent initialized with ComfyUI MCP tools\")"
   ]
  },
  {
   "cell_type": "markdown",
   "metadata": {},
   "source": [
    "## Example 1: Text-to-Image Generation"
   ]
  },
  {
   "cell_type": "code",
   "execution_count": null,
   "metadata": {},
   "outputs": [],
   "source": [
    "# Generate an image from text\n",
    "text_to_image_prompt = \"\"\"\n",
    "Generate a beautiful landscape image with the following description:\n",
    "\"A serene mountain lake at sunset with snow-capped peaks reflected in the calm water, surrounded by pine trees\"\n",
    "\n",
    "Save the generated image to './generated_outputs/mountain_lake_sunset.png'\n",
    "\"\"\"\n",
    "\n",
    "response = await agent.run(text_to_image_prompt)\n",
    "print(\"Agent Response:\")\n",
    "print(response.content)\n",
    "\n",
    "# Display the generated image if it exists\n",
    "image_path = output_dir / 'mountain_lake_sunset.png'\n",
    "if image_path.exists():\n",
    "    display(Image(filename=str(image_path)))\n",
    "    print(f\"\\nImage saved to: {image_path}\")\n",
    "else:\n",
    "    print(\"Image file not found. Check the agent response for details.\")"
   ]
  },
  {
   "cell_type": "markdown",
   "metadata": {},
   "source": [
    "## Example 2: Image-to-Image Transformation"
   ]
  },
  {
   "cell_type": "code",
   "execution_count": null,
   "metadata": {},
   "outputs": [],
   "source": [
    "# First, let's use the previously generated image (if available) or create a sample image\n",
    "input_image_path = output_dir / 'mountain_lake_sunset.png'\n",
    "\n",
    "if input_image_path.exists():\n",
    "    image_to_image_prompt = f\"\"\"\n",
    "    Transform the image at '{input_image_path}' with the following description:\n",
    "    \"Convert this landscape into a winter scene with snow falling and frozen lake\"\n",
    "    \n",
    "    Save the transformed image to './generated_outputs/winter_mountain_lake.png'\n",
    "    \"\"\"\n",
    "    \n",
    "    response = await agent.run(image_to_image_prompt)\n",
    "    print(\"Agent Response:\")\n",
    "    print(response.content)\n",
    "    \n",
    "    # Display the transformed image\n",
    "    output_image_path = output_dir / 'winter_mountain_lake.png'\n",
    "    if output_image_path.exists():\n",
    "        print(\"\\nOriginal Image:\")\n",
    "        display(Image(filename=str(input_image_path)))\n",
    "        print(\"\\nTransformed Image:\")\n",
    "        display(Image(filename=str(output_image_path)))\n",
    "        print(f\"\\nTransformed image saved to: {output_image_path}\")\n",
    "    else:\n",
    "        print(\"Transformed image file not found. Check the agent response for details.\")\n",
    "else:\n",
    "    print(\"Input image not found. Please run the text-to-image example first.\")"
   ]
  },
  {
   "cell_type": "markdown",
   "metadata": {},
   "source": [
    "## Example 3: Text-to-Video Generation"
   ]
  },
  {
   "cell_type": "code",
   "execution_count": null,
   "metadata": {},
   "outputs": [],
   "source": [
    "# Generate a video from text\n",
    "text_to_video_prompt = \"\"\"\n",
    "Generate a short video with the following description:\n",
    "\"A peaceful ocean wave gently rolling onto a sandy beach at golden hour\"\n",
    "\n",
    "Save the generated video to './generated_outputs/ocean_waves.mp4'\n",
    "Use 16 fps and 15 steps for faster generation.\n",
    "\"\"\"\n",
    "\n",
    "response = await agent.run(text_to_video_prompt)\n",
    "print(\"Agent Response:\")\n",
    "print(response.content)\n",
    "\n",
    "# Display the generated video if it exists\n",
    "video_path = output_dir / 'ocean_waves.mp4'\n",
    "if video_path.exists():\n",
    "    display(Video(str(video_path), width=512, height=512))\n",
    "    print(f\"\\nVideo saved to: {video_path}\")\n",
    "else:\n",
    "    print(\"Video file not found. Check the agent response for details.\")"
   ]
  },
  {
   "cell_type": "markdown",
   "metadata": {},
   "source": [
    "## Example 4: Image-to-Video Generation"
   ]
  },
  {
   "cell_type": "code",
   "execution_count": null,
   "metadata": {},
   "outputs": [],
   "source": [
    "# Use an existing image to generate a video\n",
    "input_image_path = output_dir / 'mountain_lake_sunset.png'\n",
    "\n",
    "if input_image_path.exists():\n",
    "    image_to_video_prompt = f\"\"\"\n",
    "    Create a video animation from the image at '{input_image_path}' with the following description:\n",
    "    \"Animate this mountain lake scene with gentle water ripples and moving clouds in the sky\"\n",
    "    \n",
    "    Save the generated video to './generated_outputs/animated_mountain_lake.mp4'\n",
    "    Use 16 fps and 15 steps for faster generation.\n",
    "    \"\"\"\n",
    "    \n",
    "    response = await agent.run(image_to_video_prompt)\n",
    "    print(\"Agent Response:\")\n",
    "    print(response.content)\n",
    "    \n",
    "    # Display the source image and generated video\n",
    "    video_path = output_dir / 'animated_mountain_lake.mp4'\n",
    "    if video_path.exists():\n",
    "        print(\"\\nSource Image:\")\n",
    "        display(Image(filename=str(input_image_path)))\n",
    "        print(\"\\nGenerated Video:\")\n",
    "        display(Video(str(video_path), width=512, height=512))\n",
    "        print(f\"\\nVideo saved to: {video_path}\")\n",
    "    else:\n",
    "        print(\"Video file not found. Check the agent response for details.\")\n",
    "else:\n",
    "    print(\"Input image not found. Please run the text-to-image example first.\")"
   ]
  },
  {
   "cell_type": "markdown",
   "metadata": {},
   "source": [
    "## Example 5: Batch Generation with Custom Parameters"
   ]
  },
  {
   "cell_type": "code",
   "execution_count": null,
   "metadata": {},
   "outputs": [],
   "source": [
    "# Generate multiple images with different styles\n",
    "batch_prompt = \"\"\"\n",
    "Generate three different style variations of a cat sitting on a windowsill:\n",
    "\n",
    "1. Realistic style - save to './generated_outputs/cat_realistic.png' with high quality settings (30 steps, cfg_scale 8.0)\n",
    "2. Cartoon style - save to './generated_outputs/cat_cartoon.png' with balanced settings (20 steps, cfg_scale 7.0)\n",
    "3. Oil painting style - save to './generated_outputs/cat_painting.png' with artistic settings (25 steps, cfg_scale 7.5)\n",
    "\n",
    "Use the same seed (12345) for all generations to ensure consistency in composition.\n",
    "\"\"\"\n",
    "\n",
    "response = await agent.run(batch_prompt)\n",
    "print(\"Agent Response:\")\n",
    "print(response.content)\n",
    "\n",
    "# Display all generated images\n",
    "image_files = ['cat_realistic.png', 'cat_cartoon.png', 'cat_painting.png']\n",
    "for img_file in image_files:\n",
    "    img_path = output_dir / img_file\n",
    "    if img_path.exists():\n",
    "        print(f\"\\n{img_file}:\")\n",
    "        display(Image(filename=str(img_path)))\n",
    "    else:\n",
    "        print(f\"\\n{img_file}: Not found\")"
   ]
  },
  {
   "cell_type": "markdown",
   "metadata": {},
   "source": [
    "## Utility Functions"
   ]
  },
  {
   "cell_type": "code",
   "execution_count": null,
   "metadata": {},
   "outputs": [],
   "source": [
    "def list_generated_files():\n",
    "    \"\"\"List all generated files in the output directory\"\"\"\n",
    "    print(f\"Generated files in {output_dir}:\")\n",
    "    for file_path in output_dir.iterdir():\n",
    "        if file_path.is_file():\n",
    "            size_mb = file_path.stat().st_size / (1024 * 1024)\n",
    "            print(f\"  {file_path.name} ({size_mb:.2f} MB)\")\n",
    "\n",
    "def cleanup_generated_files():\n",
    "    \"\"\"Clean up all generated files\"\"\"\n",
    "    for file_path in output_dir.iterdir():\n",
    "        if file_path.is_file():\n",
    "            file_path.unlink()\n",
    "            print(f\"Deleted: {file_path.name}\")\n",
    "\n",
    "# List current files\n",
    "list_generated_files()"
   ]
  },
  {
   "cell_type": "markdown",
   "metadata": {},
   "source": [
    "## Troubleshooting\n",
    "\n",
    "If you encounter issues:\n",
    "\n",
    "1. **ComfyUI Server Not Running**: Make sure ComfyUI is running on localhost:8188\n",
    "2. **Missing Models**: Ensure required models are installed in ComfyUI\n",
    "3. **Permission Errors**: Check file permissions for the output directory\n",
    "4. **Memory Issues**: Reduce image dimensions or use fewer sampling steps\n",
    "\n",
    "Check the agent responses for detailed error messages."
   ]
  }
 ],
 "metadata": {
  "kernelspec": {
   "display_name": "Python 3",
   "language": "python",
   "name": "python3"
  },
  "language_info": {
   "codemirror_mode": {
    "name": "ipython",
    "version": 3
   },
   "file_extension": ".py",
   "mimetype": "text/x-python",
   "name": "python",
   "nbconvert_exporter": "python",
   "pygments_lexer": "ipython3",
   "version": "3.8.0"
  }
 },
 "nbformat": 4,
 "nbformat_minor": 4
}
